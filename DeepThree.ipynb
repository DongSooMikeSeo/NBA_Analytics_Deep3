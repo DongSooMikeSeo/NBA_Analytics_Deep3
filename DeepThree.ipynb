{
 "cells": [
  {
   "cell_type": "code",
   "execution_count": 12,
   "id": "3f3391fe",
   "metadata": {},
   "outputs": [
    {
     "name": "stdout",
     "output_type": "stream",
     "text": [
      "Requirement already satisfied: nba_api in c:\\users\\fdose\\anaconda3\\envs\\geo_env\\lib\\site-packages (1.1.9)\n",
      "Requirement already satisfied: requests in c:\\users\\fdose\\anaconda3\\envs\\geo_env\\lib\\site-packages (from nba_api) (2.26.0)\n",
      "Requirement already satisfied: charset-normalizer~=2.0.0 in c:\\users\\fdose\\anaconda3\\envs\\geo_env\\lib\\site-packages (from requests->nba_api) (2.0.0)\n",
      "Requirement already satisfied: certifi>=2017.4.17 in c:\\users\\fdose\\anaconda3\\envs\\geo_env\\lib\\site-packages (from requests->nba_api) (2021.10.8)\n",
      "Requirement already satisfied: urllib3<1.27,>=1.21.1 in c:\\users\\fdose\\anaconda3\\envs\\geo_env\\lib\\site-packages (from requests->nba_api) (1.26.7)\n",
      "Requirement already satisfied: idna<4,>=2.5 in c:\\users\\fdose\\anaconda3\\envs\\geo_env\\lib\\site-packages (from requests->nba_api) (3.1)\n",
      "Collecting seaborn\n",
      "  Downloading seaborn-0.11.2-py3-none-any.whl (292 kB)\n",
      "Requirement already satisfied: scipy>=1.0 in c:\\users\\fdose\\anaconda3\\envs\\geo_env\\lib\\site-packages (from seaborn) (1.7.1)\n",
      "Requirement already satisfied: matplotlib>=2.2 in c:\\users\\fdose\\anaconda3\\envs\\geo_env\\lib\\site-packages (from seaborn) (3.4.3)\n",
      "Requirement already satisfied: pandas>=0.23 in c:\\users\\fdose\\anaconda3\\envs\\geo_env\\lib\\site-packages (from seaborn) (1.3.4)\n",
      "Requirement already satisfied: numpy>=1.15 in c:\\users\\fdose\\anaconda3\\envs\\geo_env\\lib\\site-packages (from seaborn) (1.21.2)\n",
      "Requirement already satisfied: python-dateutil>=2.7 in c:\\users\\fdose\\anaconda3\\envs\\geo_env\\lib\\site-packages (from matplotlib>=2.2->seaborn) (2.8.2)\n",
      "Requirement already satisfied: pyparsing>=2.2.1 in c:\\users\\fdose\\anaconda3\\envs\\geo_env\\lib\\site-packages (from matplotlib>=2.2->seaborn) (2.4.7)\n",
      "Requirement already satisfied: kiwisolver>=1.0.1 in c:\\users\\fdose\\anaconda3\\envs\\geo_env\\lib\\site-packages (from matplotlib>=2.2->seaborn) (1.3.2)\n",
      "Requirement already satisfied: pillow>=6.2.0 in c:\\users\\fdose\\anaconda3\\envs\\geo_env\\lib\\site-packages (from matplotlib>=2.2->seaborn) (8.3.2)\n",
      "Requirement already satisfied: cycler>=0.10 in c:\\users\\fdose\\anaconda3\\envs\\geo_env\\lib\\site-packages (from matplotlib>=2.2->seaborn) (0.10.0)\n",
      "Requirement already satisfied: pytz>=2017.3 in c:\\users\\fdose\\anaconda3\\envs\\geo_env\\lib\\site-packages (from pandas>=0.23->seaborn) (2021.3)\n",
      "Requirement already satisfied: six in c:\\users\\fdose\\anaconda3\\envs\\geo_env\\lib\\site-packages (from cycler>=0.10->matplotlib>=2.2->seaborn) (1.16.0)\n",
      "Installing collected packages: seaborn\n",
      "Successfully installed seaborn-0.11.2\n"
     ]
    }
   ],
   "source": [
    "#Install all necessary libraries.\n",
    "!pip install nba_api\n",
    "!pip install seaborn\n",
    "from nba_api.stats.static import players\n",
    "from nba_api.stats.static import teams\n",
    "from nba_api.stats.endpoints import playergamelog"
   ]
  },
  {
   "cell_type": "code",
   "execution_count": 5,
   "id": "24938c20",
   "metadata": {},
   "outputs": [
    {
     "data": {
      "text/plain": [
       "{'id': 201939,\n",
       " 'full_name': 'Stephen Curry',\n",
       " 'first_name': 'Stephen',\n",
       " 'last_name': 'Curry',\n",
       " 'is_active': True}"
      ]
     },
     "execution_count": 5,
     "metadata": {},
     "output_type": "execute_result"
    }
   ],
   "source": [
    "#We are about to compare Stephen Curry, Trae Young, and the DAME TIME. \n",
    "#Let's get there player ID with which we obtain their stats.\n",
    "#First up is S Curry.\n",
    "player_dict =players.get_players()\n",
    "\n",
    "SCurry = [player for player in player_dict if player['full_name'] == 'Stephen Curry'][0]\n",
    "SCurry"
   ]
  },
  {
   "cell_type": "code",
   "execution_count": 7,
   "id": "ac5b985d",
   "metadata": {},
   "outputs": [
    {
     "data": {
      "text/plain": [
       "{'id': 1629027,\n",
       " 'full_name': 'Trae Young',\n",
       " 'first_name': 'Trae',\n",
       " 'last_name': 'Young',\n",
       " 'is_active': True}"
      ]
     },
     "execution_count": 7,
     "metadata": {},
     "output_type": "execute_result"
    }
   ],
   "source": [
    "#Second, Trae!\n",
    "TYoung = [player for player in player_dict if player['full_name'] == 'Trae Young'][0]\n",
    "TYoung"
   ]
  },
  {
   "cell_type": "code",
   "execution_count": 8,
   "id": "d4261331",
   "metadata": {},
   "outputs": [
    {
     "data": {
      "text/plain": [
       "{'id': 203081,\n",
       " 'full_name': 'Damian Lillard',\n",
       " 'first_name': 'Damian',\n",
       " 'last_name': 'Lillard',\n",
       " 'is_active': True}"
      ]
     },
     "execution_count": 8,
     "metadata": {},
     "output_type": "execute_result"
    }
   ],
   "source": [
    "#and DAME TIME!\n",
    "DLillard = [player for player in player_dict if player['full_name'] == 'Damian Lillard'][0]\n",
    "DLillard"
   ]
  },
  {
   "cell_type": "code",
   "execution_count": 9,
   "id": "7df57e10",
   "metadata": {},
   "outputs": [],
   "source": [
    "# now it is time to get their stats using their ID while specifying the season.\n",
    "from nba_api.stats.endpoints import ShotChartDetail\n",
    "\n",
    "player_id = '201939' # fill in the player you care about, this one is for Curry.\n",
    "shot_char_detail_dfs = ShotChartDetail(team_id='0', player_id=player_id, season_nullable='2018-19', context_measure_simple='FGA').get_data_frames()[0]\n"
   ]
  },
  {
   "cell_type": "code",
   "execution_count": 10,
   "id": "8d34918c",
   "metadata": {},
   "outputs": [
    {
     "data": {
      "text/plain": [
       "array([24,  6,  2,  1, 22,  9, 28, 12, 26, 25,  5, 11, 17, 16,  7,  3, 19,\n",
       "       23, 14, 13,  0, 15,  4, 27, 54, 33, 31, 18, 34, 30, 20, 45, 29,  8,\n",
       "       21, 10, 49, 32, 61, 41, 71, 38, 35, 65, 37, 53, 47, 60, 58, 48],\n",
       "      dtype=int64)"
      ]
     },
     "execution_count": 10,
     "metadata": {},
     "output_type": "execute_result"
    }
   ],
   "source": [
    "# we are interested in the shot distance. How far were those shots made? Let's briefly look how they look like.\n",
    "shot_char_detail_dfs.SHOT_DISTANCE.unique()"
   ]
  },
  {
   "cell_type": "code",
   "execution_count": 13,
   "id": "f77931bd",
   "metadata": {},
   "outputs": [
    {
     "data": {
      "text/plain": [
       "<AxesSubplot:xlabel='LOC_X', ylabel='LOC_Y'>"
      ]
     },
     "execution_count": 13,
     "metadata": {},
     "output_type": "execute_result"
    },
    {
     "data": {
      "image/png": "[encoded data removed]",
      "text/plain": [
       "<Figure size 432x288 with 1 Axes>"
      ]
     },
     "metadata": {
      "needs_background": "light"
     },
     "output_type": "display_data"
    }
   ],
   "source": [
    "#time to plot those shot attempts.\n",
    "#you can immediately recognize where the three point line would exist. Also, Curry made a bunch of \"logo shot\" attempts.\n",
    "import seaborn as sns\n",
    "sns.scatterplot(x='LOC_X', y='LOC_Y', data=shot_char_detail_dfs, color='red')"
   ]
  },
  {
   "cell_type": "code",
   "execution_count": 16,
   "id": "eb382324",
   "metadata": {},
   "outputs": [
    {
     "data": {
      "text/plain": [
       "288"
      ]
     },
     "execution_count": 16,
     "metadata": {},
     "output_type": "execute_result"
    }
   ],
   "source": [
    "#the purpose of this analysis is to figure out who is the best deep three shooter. But then how can we define \"deep three\"? \n",
    "#how deep it has to be?\n",
    "#it seems like 28 feet, according to this NBA article. https://www.nba.com/stats/articles/from-way-downtown-the-rise-of-the-deep-three\n",
    "shot_char_detail_dfs.loc[shot_char_detail_dfs['SHOT_DISTANCE']>=27].shape[0]\n",
    "\n",
    "#total 288 deep threes are attempted by Curry. How prolific!\n"
   ]
  },
  {
   "cell_type": "code",
   "execution_count": 17,
   "id": "153097d1",
   "metadata": {},
   "outputs": [
    {
     "data": {
      "text/plain": [
       "<AxesSubplot:xlabel='LOC_X', ylabel='LOC_Y'>"
      ]
     },
     "execution_count": 17,
     "metadata": {},
     "output_type": "execute_result"
    },
    {
     "data": {
      "image/png": "[encoded data removed]",
      "text/plain": [
       "<Figure size 432x288 with 1 Axes>"
      ]
     },
     "metadata": {
      "needs_background": "light"
     },
     "output_type": "display_data"
    }
   ],
   "source": [
    "#let's plot the shots that are only made at 28 feet and behind.\n",
    "sns.scatterplot(x='LOC_X', y='LOC_Y', data=shot_char_detail_dfs.loc[shot_char_detail_dfs['SHOT_DISTANCE']>27], color='blue')"
   ]
  },
  {
   "cell_type": "code",
   "execution_count": 18,
   "id": "a37ac7d5",
   "metadata": {},
   "outputs": [
    {
     "data": {
      "text/plain": [
       "31.156626506024097"
      ]
     },
     "execution_count": 18,
     "metadata": {},
     "output_type": "execute_result"
    }
   ],
   "source": [
    "#what is the average distance among those shots made at 28 and behind?\n",
    "\n",
    "shot_char_detail_dfs.loc[shot_char_detail_dfs['SHOT_DISTANCE']>27]['SHOT_DISTANCE'].mean()"
   ]
  },
  {
   "cell_type": "code",
   "execution_count": 21,
   "id": "1ec14afd",
   "metadata": {},
   "outputs": [
    {
     "data": {
      "text/plain": [
       "0.37349397590361444"
      ]
     },
     "execution_count": 21,
     "metadata": {},
     "output_type": "execute_result"
    }
   ],
   "source": [
    "#So how effective all these deep threes?\n",
    "#we can take advantage of this data point, \"Shot Made Flag\" \n",
    "#Turns out Curry is showing 37% of made rate, with average 31 feet of range!\n",
    "shot_char_detail_dfs.loc[(shot_char_detail_dfs['SHOT_DISTANCE']>27)&(shot_char_detail_dfs['SHOT_MADE_FLAG']==1)].shape[0]/ shot_char_detail_dfs.loc[shot_char_detail_dfs['SHOT_DISTANCE']>27].shape[0]"
   ]
  },
  {
   "cell_type": "code",
   "execution_count": null,
   "id": "9c9dc9e9",
   "metadata": {},
   "outputs": [],
   "source": [
    "#If you repeat these steps above for Trae and Dame time, you will be able to see who is the best.\n",
    "#But don't bother, becasue the answer is, always, DAME TIME!"
   ]
  }
 ],
 "metadata": {
  "kernelspec": {
   "display_name": "Python 3 (ipykernel)",
   "language": "python",
   "name": "python3"
  },
  "language_info": {
   "codemirror_mode": {
    "name": "ipython",
    "version": 3
   },
   "file_extension": ".py",
   "mimetype": "text/x-python",
   "name": "python",
   "nbconvert_exporter": "python",
   "pygments_lexer": "ipython3",
   "version": "3.9.7"
  }
 },
 "nbformat": 4,
 "nbformat_minor": 5
}
